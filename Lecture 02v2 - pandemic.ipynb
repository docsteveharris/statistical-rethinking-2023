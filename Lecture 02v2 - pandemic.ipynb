{
 "cells": [
  {
   "cell_type": "markdown",
   "id": "b0def4a8d8daa2d2",
   "metadata": {
    "collapsed": false
   },
   "source": [
    "Take the virus story.\n",
    "This provides some data: `DDADDAADD`\n",
    "Simplify the problem so there are only two types of virus in the world\n",
    "A bad virus like Ebola that kills half of the people it infects\n",
    "A 'good' virus that kills one in six people\n",
    "Question: which virus is this?\n"
   ]
  },
  {
   "cell_type": "markdown",
   "id": "6cff0cf8c1bbad37",
   "metadata": {
    "collapsed": false
   },
   "source": [
    "You need a story to connect the qualities of the virus to the data.\n",
    "The biology is complicated but we will summarise this by saying that the summation of all your personal genetics, your current health, and the virulence of that particular instance of the virus comes down to a dice roll. The 'good' virus implies that you only die if you roll `1`, but the 'bad' virus means that you die if you roll `1`, `2`, or `3`.\n",
    "This dice story is obviously _not_ true: that is not how nature works. It's a 'model' that conveniently allows us to connect the observed data to the quantity of interest.\n",
    "We wish to know whether you're rolling the 'good' or the 'bad' dice.\n"
   ]
  },
  {
   "cell_type": "markdown",
   "id": "5e8fdae47b39be96",
   "metadata": {
    "collapsed": false
   },
   "source": [
    "1. Garden of forking paths: good dice\n",
    "2. Garden of forking paths: bad dice\n",
    "\n",
    "Let's just take the first 3 observations `DDA`\n",
    "\n",
    "then there's $\\frac{1}{6}\\times\\frac{1}{6}\\times\\frac{5}{6} = \\frac{5}{216}$ chances the 'good' dice, and $\\frac{3}{6}\\times\\frac{3}{6}\\times\\frac{3}{6}=\\frac{27}{216}$ chances the 'bad' dice can produce that sequence.\n",
    "\n",
    "Now that's leaping directly to probabilities, but we could have just started with counting which would give us the same conclusion $1 \\times 1 \\times 5=5$ versus $3 \\times 3 \\times 3 = 27$"
   ]
  },
  {
   "cell_type": "markdown",
   "id": "aa1e64db0aa69114",
   "metadata": {
    "collapsed": false
   },
   "source": [
    "You're the CMO. Should you be advising the Prime minister to enter lockdown after these first 3 observations. It's clearly _more_ likely this is a nasty virus but it's not certain. If you want to lean on the magical p-value in your future defence at the COVID or _not_-COVID inquiry then you can only pull the alarm cord when the 'good' virus probabilty is less than 5%. There are only two possible viruses in our simple world, and we have enumerated 5 ways that this good by the 'good' virus out of a total of $5+27$ ways. In our _model_, there are no other possibilities ... although the real world might not be that simple. For example, perhaps both viruses co-exist and some people have been infected by one, and others by another. We're (deliberately) ignoring that. But that simplification does tell us that the chance of this being a nasty is $\\frac{27}{32}$ which is around 84%. So we don't pull the alarm cord."
   ]
  },
  {
   "cell_type": "markdown",
   "id": "d229ce9342ae324b",
   "metadata": {
    "collapsed": false
   },
   "source": [
    "Another person dies.\n",
    "\n",
    "If this is the 'bad' virus then there are three ways that could arise or $27 \\times 3 = 81$.\n",
    "If this is the 'good' virus then there is only one way that could arise or $5 \\times 1 = 5$.\n",
    "\n",
    "We need to recalculate our total number of ways which is now $5+81=86$, and the chance of this being a nasty is now $\\frac{81}{86}$ or 94.2% so we do nothing and wait again.\n",
    "\n",
    "Another person dies.\n",
    "\n",
    "If this is the 'bad' virus then there are three ways that could arise or $81 \\times 3 = 241$.\n",
    "If this is the 'good' virus then there is only one way that could arise or $5 \\times 1 = 5$.\n",
    "\n",
    "We need to recalculate our total number of ways which is now $5+241=246$ and the chance of this neing a nasty is now $\\frac{241}{246}$ or 98%. So we call the Prime minister, only to discover he's busy planning his honeymoon in the Caribbean. \n",
    "\n",
    "Ah, well. It probably won't that bad."
   ]
  },
  {
   "cell_type": "markdown",
   "id": "cd6364f22fdba8c8",
   "metadata": {
    "collapsed": false
   },
   "source": [
    "Now Dominic comes along. Although he did history but he also thinks he's clever, and tells you that your model is stupid. That there are many more types of virus out there than just 'good' and 'bad'. Dom likes Dungeons and Dragons, and hands you a twenty-sided dice (D20) to use instead of your simple 6-sided dice. He says there are 21 possibilities. The virus is benign and it doesn't matter what roll you get you always survive, or the virus means certain death where it doesn't matter what roll you get, you will die."
   ]
  },
  {
   "cell_type": "markdown",
   "id": "79e3b06c3ab28f45",
   "metadata": {
    "collapsed": false
   },
   "source": [
    "You don't fancy doing all the maths by hand again for each of the 21 different levels of virus severity."
   ]
  },
  {
   "cell_type": "code",
   "execution_count": 2,
   "id": "b2d343edb5312b3a",
   "metadata": {
    "ExecuteTime": {
     "end_time": "2023-12-31T15:55:02.676512Z",
     "start_time": "2023-12-31T15:55:02.223938Z"
    },
    "collapsed": false
   },
   "outputs": [],
   "source": [
    "import numpy as np\n",
    "import polars as pl\n",
    "import matplotlib.pyplot as plt\n"
   ]
  },
  {
   "cell_type": "code",
   "execution_count": 3,
   "id": "cd766b932767d530",
   "metadata": {
    "ExecuteTime": {
     "end_time": "2023-12-31T16:24:30.304944Z",
     "start_time": "2023-12-31T16:24:30.291036Z"
    },
    "collapsed": false
   },
   "outputs": [],
   "source": [
    "data = \"DDA\"\n",
    "hypotheses = np.linspace(0,20,num=21)\n"
   ]
  },
  {
   "cell_type": "markdown",
   "id": "8b59bbf8b8934161",
   "metadata": {
    "collapsed": false
   },
   "source": [
    "The little code snippet below is your model.\n",
    "It connects the data to the dice.\n",
    "And counts the number of ways a data item can arise given the different hypothesised lethality values of your dice"
   ]
  },
  {
   "cell_type": "code",
   "execution_count": 4,
   "id": "8735bea28d28569b",
   "metadata": {
    "ExecuteTime": {
     "end_time": "2023-12-31T16:15:37.796919Z",
     "start_time": "2023-12-31T16:15:37.794714Z"
    },
    "collapsed": false
   },
   "outputs": [],
   "source": [
    "ways = []\n",
    "for hypothesis in hypotheses:\n",
    "    this_virus = []\n",
    "    for datum in data:\n",
    "        this_virus.append(hypothesis) if datum == \"D\" else this_virus.append(20-hypothesis)\n",
    "    ways.append(this_virus)\n",
    "ways = np.array(ways)"
   ]
  },
  {
   "cell_type": "code",
   "execution_count": 5,
   "id": "198e60f320f1ecaf",
   "metadata": {
    "ExecuteTime": {
     "end_time": "2023-12-31T16:15:43.955283Z",
     "start_time": "2023-12-31T16:15:43.947539Z"
    },
    "collapsed": false
   },
   "outputs": [
    {
     "data": {
      "text/plain": [
       "array([[ 0.,  0., 20.],\n",
       "       [ 1.,  1., 19.],\n",
       "       [ 2.,  2., 18.],\n",
       "       [ 3.,  3., 17.],\n",
       "       [ 4.,  4., 16.],\n",
       "       [ 5.,  5., 15.],\n",
       "       [ 6.,  6., 14.],\n",
       "       [ 7.,  7., 13.],\n",
       "       [ 8.,  8., 12.],\n",
       "       [ 9.,  9., 11.],\n",
       "       [10., 10., 10.],\n",
       "       [11., 11.,  9.],\n",
       "       [12., 12.,  8.],\n",
       "       [13., 13.,  7.],\n",
       "       [14., 14.,  6.],\n",
       "       [15., 15.,  5.],\n",
       "       [16., 16.,  4.],\n",
       "       [17., 17.,  3.],\n",
       "       [18., 18.,  2.],\n",
       "       [19., 19.,  1.],\n",
       "       [20., 20.,  0.]])"
      ]
     },
     "execution_count": 5,
     "metadata": {},
     "output_type": "execute_result"
    }
   ],
   "source": [
    "ways"
   ]
  },
  {
   "cell_type": "code",
   "execution_count": 6,
   "id": "e00080971295c02a",
   "metadata": {
    "ExecuteTime": {
     "end_time": "2023-12-31T16:15:55.152007Z",
     "start_time": "2023-12-31T16:15:55.143631Z"
    },
    "collapsed": false
   },
   "outputs": [
    {
     "data": {
      "text/plain": [
       "array([[0.000e+00, 0.000e+00, 0.000e+00],\n",
       "       [1.000e+00, 1.000e+00, 1.900e+01],\n",
       "       [2.000e+00, 4.000e+00, 7.200e+01],\n",
       "       [3.000e+00, 9.000e+00, 1.530e+02],\n",
       "       [4.000e+00, 1.600e+01, 2.560e+02],\n",
       "       [5.000e+00, 2.500e+01, 3.750e+02],\n",
       "       [6.000e+00, 3.600e+01, 5.040e+02],\n",
       "       [7.000e+00, 4.900e+01, 6.370e+02],\n",
       "       [8.000e+00, 6.400e+01, 7.680e+02],\n",
       "       [9.000e+00, 8.100e+01, 8.910e+02],\n",
       "       [1.000e+01, 1.000e+02, 1.000e+03],\n",
       "       [1.100e+01, 1.210e+02, 1.089e+03],\n",
       "       [1.200e+01, 1.440e+02, 1.152e+03],\n",
       "       [1.300e+01, 1.690e+02, 1.183e+03],\n",
       "       [1.400e+01, 1.960e+02, 1.176e+03],\n",
       "       [1.500e+01, 2.250e+02, 1.125e+03],\n",
       "       [1.600e+01, 2.560e+02, 1.024e+03],\n",
       "       [1.700e+01, 2.890e+02, 8.670e+02],\n",
       "       [1.800e+01, 3.240e+02, 6.480e+02],\n",
       "       [1.900e+01, 3.610e+02, 3.610e+02],\n",
       "       [2.000e+01, 4.000e+02, 0.000e+00]])"
      ]
     },
     "execution_count": 6,
     "metadata": {},
     "output_type": "execute_result"
    }
   ],
   "source": [
    "ways.cumprod(axis=1)"
   ]
  },
  {
   "cell_type": "code",
   "execution_count": 8,
   "id": "4a30f4af8ce62a0b",
   "metadata": {
    "ExecuteTime": {
     "end_time": "2023-12-31T16:22:45.520039Z",
     "start_time": "2023-12-31T16:22:45.439522Z"
    },
    "collapsed": false
   },
   "outputs": [
    {
     "data": {
      "text/plain": [
       "Text(0.5, 0, 'Dice lethality aka number of faces that end in death')"
      ]
     },
     "execution_count": 8,
     "metadata": {},
     "output_type": "execute_result"
    },
    {
     "data": {
      "image/png": "[encoded data removed]",
      "text/plain": [
       "<Figure size 640x480 with 1 Axes>"
      ]
     },
     "metadata": {},
     "output_type": "display_data"
    }
   ],
   "source": [
    "# Now plot\n",
    "ways_cumprod = ways.cumprod(axis=1)[:,-1]\n",
    "fig, ax = plt.subplots()\n",
    "ax.plot(hypotheses, ways_cumprod)\n",
    "plt.ylabel(\"Number of ways this can arise\")\n",
    "plt.xlabel(\"Dice lethality aka number of faces that end in death\")\n"
   ]
  },
  {
   "cell_type": "code",
   "execution_count": null,
   "id": "9e5c4f5a180ce074",
   "metadata": {
    "collapsed": false
   },
   "outputs": [],
   "source": []
  }
 ],
 "metadata": {
  "kernelspec": {
   "display_name": "Python 3",
   "language": "python",
   "name": "python3"
  },
  "language_info": {
   "codemirror_mode": {
    "name": "ipython",
    "version": 3
   },
   "file_extension": ".py",
   "mimetype": "text/x-python",
   "name": "python",
   "nbconvert_exporter": "python",
   "pygments_lexer": "ipython3",
   "version": "3.10.12"
  }
 },
 "nbformat": 4,
 "nbformat_minor": 5
}
