{
  "cells": [
    {
      "cell_type": "raw",
      "id": "7da42f03",
      "metadata": {},
      "source": [
        "---\n",
        "title: Linear regression by grid search\n",
        "format:\n",
        "  html:\n",
        "    code-fold: false\n",
        "---"
      ]
    },
    {
      "cell_type": "markdown",
      "id": "754bf1f2",
      "metadata": {},
      "source": [
        "## Drawing the owl\n",
        "I think for McElreath this stands in for knowledge and the model\n",
        "\n",
        "1. State a clear question (what do you want to know? what is the estimand?)\n",
        "2. Sketch the causal assumptions (i.e. draw a DAG)\n",
        "3. Define a generative model (and generate the data)\n",
        "4. Use the generative model to build and _test_ an estimator (for the estimand)\n",
        "5. Invert and use the real data to produce an estimate of the estimand\n",
        "\n",
        "### Imports and set-up\n"
      ]
    },
    {
      "cell_type": "code",
      "execution_count": null,
      "id": "ddbfa195",
      "metadata": {},
      "outputs": [],
      "source": [
        "import numpy as np\n",
        "import polars as pl\n",
        "import matplotlib.pyplot as plt\n",
        "from scipy import stats as stats\n",
        "from pathlib import Path\n",
        "\n",
        "def load_data(dataset: str, delimiter: str = \";\", data_path: str = \".\"):\n",
        "    \"\"\"\n",
        "    load one of the rethinking data sets\n",
        "\n",
        "    Parameters\n",
        "    ----------\n",
        "    dataset: str\n",
        "        name of the dataset to load\n",
        "    delimiter: str, optional\n",
        "        column separator in the file, by default \";\"\n",
        "    data_path: str, optional\n",
        "        path to the directory where the data file is located, by default \".\"\n",
        "\n",
        "    Returns\n",
        "    -------\n",
        "    pl.DataFrame\n",
        "        the data loaded into a polars dataframe\n",
        "\n",
        "    \"\"\"\n",
        "    fname = f\"{dataset}.csv\"\n",
        "    data_file = Path(data_path) / fname\n",
        "    return pl.read_csv(data_file, separator=delimiter)"
      ]
    },
    {
      "cell_type": "markdown",
      "id": "a9194659",
      "metadata": {},
      "source": [
        "### Load data\n"
      ]
    },
    {
      "cell_type": "code",
      "execution_count": null,
      "id": "9d711ee6",
      "metadata": {},
      "outputs": [],
      "source": [
        "HOWELL = load_data(\"Howell1\", delimiter=\";\", data_path=\"./data\")\n",
        "fig, axs = plt.subplots(1, 2, figsize=(8,4))\n",
        "\n",
        "KIDS = HOWELL.filter(pl.col(\"age\") <= 18)\n",
        "ADULTS = HOWELL.filter(pl.col(\"age\") > 18)\n",
        "\n",
        "plt.sca(axs[0])\n",
        "plt.scatter(x=KIDS[\"height\"], y=KIDS[\"weight\"], color=\"C0\")\n",
        "plt.scatter(x=ADULTS[\"height\"], y=ADULTS[\"weight\"], color=\"C1\")\n",
        "plt.title(\"Kids and adults\")\n",
        "\n",
        "plt.sca(axs[1])\n",
        "plt.scatter(x=ADULTS[\"height\"], y=ADULTS[\"weight\"], color=\"C1\")\n",
        "plt.title(\"Adults only\")\n",
        "\n",
        "plt.show()"
      ]
    }
  ],
  "metadata": {
    "kernelspec": {
      "display_name": "rethink2023",
      "language": "python",
      "name": "python3"
    },
    "language_info": {
      "name": "python",
      "version": "3.10.12"
    }
  },
  "nbformat": 4,
  "nbformat_minor": 5
}
