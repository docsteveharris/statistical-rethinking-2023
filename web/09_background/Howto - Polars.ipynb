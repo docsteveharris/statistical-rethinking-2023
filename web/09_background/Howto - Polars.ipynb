{
 "cells": [
  {
   "cell_type": "code",
   "execution_count": 7,
   "id": "initial_id",
   "metadata": {
    "collapsed": true,
    "ExecuteTime": {
     "end_time": "2024-01-14T14:11:16.796298Z",
     "start_time": "2024-01-14T14:11:16.792402Z"
    }
   },
   "outputs": [],
   "source": [
    "import polars as pl\n",
    "import numpy as np"
   ]
  },
  {
   "cell_type": "code",
   "outputs": [
    {
     "name": "stdout",
     "output_type": "stream",
     "text": [
      "shape: (3, 3)\n",
      "┌─────────┬─────────────────────┬───────┐\n",
      "│ integer ┆ date                ┆ float │\n",
      "│ ---     ┆ ---                 ┆ ---   │\n",
      "│ i64     ┆ datetime[μs]        ┆ f64   │\n",
      "╞═════════╪═════════════════════╪═══════╡\n",
      "│ 1       ┆ 2022-01-01 00:00:00 ┆ 4.0   │\n",
      "│ 2       ┆ 2022-01-02 00:00:00 ┆ 5.0   │\n",
      "│ 3       ┆ 2022-01-03 00:00:00 ┆ 6.0   │\n",
      "└─────────┴─────────────────────┴───────┘\n"
     ]
    }
   ],
   "source": [
    "from datetime import datetime\n",
    "\n",
    "df = pl.DataFrame(\n",
    "    {\n",
    "        \"integer\": [1, 2, 3],\n",
    "        \"date\": [\n",
    "            datetime(2022, 1, 1),\n",
    "            datetime(2022, 1, 2),\n",
    "            datetime(2022, 1, 3),\n",
    "        ],\n",
    "        \"float\": [4.0, 5.0, 6.0],\n",
    "    }\n",
    ")\n",
    "\n",
    "print(df)"
   ],
   "metadata": {
    "collapsed": false,
    "ExecuteTime": {
     "end_time": "2024-01-14T14:06:35.234774Z",
     "start_time": "2024-01-14T14:06:35.228726Z"
    }
   },
   "id": "d7436ae428983970",
   "execution_count": 4
  },
  {
   "cell_type": "markdown",
   "source": [
    "## Contexts \n",
    "\n",
    "Expressions are evaluated within one of 3 contexts:\n",
    "1. Selection: `df.select(...)`, `df.with_columns(...)` etc.\n",
    "2. Filtering: `df.filter(...)`\n",
    "3. Group by / Aggregation: `df.groupby(...).agg(...)`\n",
    "\n"
   ],
   "metadata": {
    "collapsed": false
   },
   "id": "e8c393f1a77ff665"
  },
  {
   "cell_type": "code",
   "outputs": [
    {
     "name": "stdout",
     "output_type": "stream",
     "text": [
      "shape: (5, 4)\n",
      "┌──────┬───────┬──────────┬────────┐\n",
      "│ nrs  ┆ names ┆ random   ┆ groups │\n",
      "│ ---  ┆ ---   ┆ ---      ┆ ---    │\n",
      "│ i64  ┆ str   ┆ f64      ┆ str    │\n",
      "╞══════╪═══════╪══════════╪════════╡\n",
      "│ 1    ┆ foo   ┆ 0.984354 ┆ A      │\n",
      "│ 2    ┆ ham   ┆ 0.21297  ┆ A      │\n",
      "│ 3    ┆ spam  ┆ 0.304313 ┆ B      │\n",
      "│ null ┆ egg   ┆ 0.895808 ┆ C      │\n",
      "│ 5    ┆ null  ┆ 0.024642 ┆ B      │\n",
      "└──────┴───────┴──────────┴────────┘\n"
     ]
    }
   ],
   "source": [
    "df = pl.DataFrame(\n",
    "    {\n",
    "        \"nrs\": [1, 2, 3, None, 5],\n",
    "        \"names\": [\"foo\", \"ham\", \"spam\", \"egg\", None],\n",
    "        \"random\": np.random.rand(5),\n",
    "        \"groups\": [\"A\", \"A\", \"B\", \"C\", \"B\"],\n",
    "    }\n",
    ")\n",
    "print(df)"
   ],
   "metadata": {
    "collapsed": false,
    "ExecuteTime": {
     "end_time": "2024-01-14T14:11:21.114210Z",
     "start_time": "2024-01-14T14:11:21.108620Z"
    }
   },
   "id": "8b77c798c1d4f8c3",
   "execution_count": 8
  },
  {
   "cell_type": "markdown",
   "source": [
    "> The selection context applies expressions over columns. A select may produce new columns that are aggregations, combinations of expressions, or literals.\n",
    "\n",
    "> The expressions in a selection context must produce Series that are all the same length or have a length of 1. Literals are treated as length-1 Series."
   ],
   "metadata": {
    "collapsed": false
   },
   "id": "64948a3ce62a2157"
  },
  {
   "cell_type": "code",
   "outputs": [
    {
     "data": {
      "text/plain": "shape: (5, 2)\n┌─────┬───────┐\n│ nrs ┆ names │\n│ --- ┆ ---   │\n│ i64 ┆ str   │\n╞═════╪═══════╡\n│ 11  ┆ null  │\n│ 11  ┆ egg   │\n│ 11  ┆ foo   │\n│ 11  ┆ ham   │\n│ 11  ┆ spam  │\n└─────┴───────┘",
      "text/html": "<div><style>\n.dataframe > thead > tr,\n.dataframe > tbody > tr {\n  text-align: right;\n  white-space: pre-wrap;\n}\n</style>\n<small>shape: (5, 2)</small><table border=\"1\" class=\"dataframe\"><thead><tr><th>nrs</th><th>names</th></tr><tr><td>i64</td><td>str</td></tr></thead><tbody><tr><td>11</td><td>null</td></tr><tr><td>11</td><td>&quot;egg&quot;</td></tr><tr><td>11</td><td>&quot;foo&quot;</td></tr><tr><td>11</td><td>&quot;ham&quot;</td></tr><tr><td>11</td><td>&quot;spam&quot;</td></tr></tbody></table></div>"
     },
     "execution_count": 9,
     "metadata": {},
     "output_type": "execute_result"
    }
   ],
   "source": [
    "df.select(\n",
    "    pl.sum(\"nrs\"),\n",
    "    pl.col(\"names\").sort()\n",
    ")"
   ],
   "metadata": {
    "collapsed": false,
    "ExecuteTime": {
     "end_time": "2024-01-14T14:13:32.154795Z",
     "start_time": "2024-01-14T14:13:32.143103Z"
    }
   },
   "id": "12caa69f73f40bd6",
   "execution_count": 9
  },
  {
   "cell_type": "markdown",
   "source": [
    "> Similar to the select statement, the with_columns statement also enters into the selection context. The main difference between with_columns and select is that with_columns retains the original columns and adds new ones, whereas select drops the original columns"
   ],
   "metadata": {
    "collapsed": false
   },
   "id": "5d35e0225789fd6e"
  },
  {
   "cell_type": "code",
   "outputs": [
    {
     "data": {
      "text/plain": "shape: (5, 6)\n┌──────┬───────┬──────────┬────────┬─────────┬───────┐\n│ nrs  ┆ names ┆ random   ┆ groups ┆ nrs_sum ┆ count │\n│ ---  ┆ ---   ┆ ---      ┆ ---    ┆ ---     ┆ ---   │\n│ i64  ┆ str   ┆ f64      ┆ str    ┆ i64     ┆ u32   │\n╞══════╪═══════╪══════════╪════════╪═════════╪═══════╡\n│ 1    ┆ foo   ┆ 0.984354 ┆ A      ┆ 11      ┆ 5     │\n│ 2    ┆ ham   ┆ 0.21297  ┆ A      ┆ 11      ┆ 5     │\n│ 3    ┆ spam  ┆ 0.304313 ┆ B      ┆ 11      ┆ 5     │\n│ null ┆ egg   ┆ 0.895808 ┆ C      ┆ 11      ┆ 5     │\n│ 5    ┆ null  ┆ 0.024642 ┆ B      ┆ 11      ┆ 5     │\n└──────┴───────┴──────────┴────────┴─────────┴───────┘",
      "text/html": "<div><style>\n.dataframe > thead > tr,\n.dataframe > tbody > tr {\n  text-align: right;\n  white-space: pre-wrap;\n}\n</style>\n<small>shape: (5, 6)</small><table border=\"1\" class=\"dataframe\"><thead><tr><th>nrs</th><th>names</th><th>random</th><th>groups</th><th>nrs_sum</th><th>count</th></tr><tr><td>i64</td><td>str</td><td>f64</td><td>str</td><td>i64</td><td>u32</td></tr></thead><tbody><tr><td>1</td><td>&quot;foo&quot;</td><td>0.984354</td><td>&quot;A&quot;</td><td>11</td><td>5</td></tr><tr><td>2</td><td>&quot;ham&quot;</td><td>0.21297</td><td>&quot;A&quot;</td><td>11</td><td>5</td></tr><tr><td>3</td><td>&quot;spam&quot;</td><td>0.304313</td><td>&quot;B&quot;</td><td>11</td><td>5</td></tr><tr><td>null</td><td>&quot;egg&quot;</td><td>0.895808</td><td>&quot;C&quot;</td><td>11</td><td>5</td></tr><tr><td>5</td><td>null</td><td>0.024642</td><td>&quot;B&quot;</td><td>11</td><td>5</td></tr></tbody></table></div>"
     },
     "execution_count": 10,
     "metadata": {},
     "output_type": "execute_result"
    }
   ],
   "source": [
    "df.with_columns(\n",
    "    pl.sum(\"nrs\").alias(\"nrs_sum\"),\n",
    "    pl.col(\"random\").count().alias(\"count\"),\n",
    ")"
   ],
   "metadata": {
    "collapsed": false,
    "ExecuteTime": {
     "end_time": "2024-01-14T14:17:43.865239Z",
     "start_time": "2024-01-14T14:17:43.856811Z"
    }
   },
   "id": "6519b76b05c09c8a",
   "execution_count": 10
  },
  {
   "cell_type": "markdown",
   "source": [
    "## Expressions\n",
    "\n",
    "> Polars expressions are a mapping from a series to a series (or mathematically Fn(Series) -> Series). As expressions have a Series as an input and a Series as an output then it is straightforward to do a sequence of expressions (similar to method chaining in pandas)."
   ],
   "metadata": {
    "collapsed": false
   },
   "id": "d3efbbfd66e8d937"
  },
  {
   "cell_type": "markdown",
   "source": [
    "```python\n",
    "pl.col(\"foo\").sort().head(2)\n",
    "```\n",
    "\n",
    "> The snippet above says:\n",
    "\n",
    "> Select column \"foo\"\n",
    "> Then sort the column (not in reversed order)\n",
    "> Then take the first two values of the sorted output\n",
    "\n",
    "> The power of expressions is that every expression produces a new expression, and that they can be piped together. You can run an expression by passing them to one of Polars execution contexts."
   ],
   "metadata": {
    "collapsed": false
   },
   "id": "41774d6d97c4dbe4"
  },
  {
   "cell_type": "markdown",
   "source": [
    "## Aggregation\n"
   ],
   "metadata": {
    "collapsed": false
   },
   "id": "af2b21f714a018e7"
  },
  {
   "cell_type": "code",
   "outputs": [],
   "source": [
    "url = \"https://theunitedstates.io/congress-legislators/legislators-historical.csv\"\n",
    "\n",
    "dtypes = {\n",
    "    \"first_name\": pl.Categorical,\n",
    "    \"gender\": pl.Categorical,\n",
    "    \"type\": pl.Categorical,\n",
    "    \"state\": pl.Categorical,\n",
    "    \"party\": pl.Categorical,\n",
    "}\n",
    "\n",
    "dataset = pl.read_csv(url, dtypes=dtypes).with_columns(\n",
    "    pl.col(\"birthday\").str.to_date(strict=False)\n",
    ")"
   ],
   "metadata": {
    "collapsed": false,
    "ExecuteTime": {
     "end_time": "2024-01-14T14:30:46.909964Z",
     "start_time": "2024-01-14T14:30:46.441828Z"
    }
   },
   "id": "4392efce7758d343",
   "execution_count": 11
  },
  {
   "cell_type": "code",
   "outputs": [
    {
     "data": {
      "text/plain": "shape: (5, 36)\n┌───────────┬────────────┬────────────┬────────┬───┬────────────┬───────────┬──────────┬───────────┐\n│ last_name ┆ first_name ┆ middle_nam ┆ suffix ┆ … ┆ ballotpedi ┆ washingto ┆ icpsr_id ┆ wikipedia │\n│ ---       ┆ ---        ┆ e          ┆ ---    ┆   ┆ a_id       ┆ n_post_id ┆ ---      ┆ _id       │\n│ str       ┆ cat        ┆ ---        ┆ str    ┆   ┆ ---        ┆ ---       ┆ i64      ┆ ---       │\n│           ┆            ┆ str        ┆        ┆   ┆ str        ┆ str       ┆          ┆ str       │\n╞═══════════╪════════════╪════════════╪════════╪═══╪════════════╪═══════════╪══════════╪═══════════╡\n│ Bassett   ┆ Richard    ┆ null       ┆ null   ┆ … ┆ null       ┆ null      ┆ 507      ┆ Richard   │\n│           ┆            ┆            ┆        ┆   ┆            ┆           ┆          ┆ Bassett   │\n│           ┆            ┆            ┆        ┆   ┆            ┆           ┆          ┆ (Delaware │\n│           ┆            ┆            ┆        ┆   ┆            ┆           ┆          ┆ politi…   │\n│ Bland     ┆ Theodorick ┆ null       ┆ null   ┆ … ┆ null       ┆ null      ┆ 786      ┆ Theodoric │\n│           ┆            ┆            ┆        ┆   ┆            ┆           ┆          ┆ k Bland   │\n│           ┆            ┆            ┆        ┆   ┆            ┆           ┆          ┆ (congress │\n│           ┆            ┆            ┆        ┆   ┆            ┆           ┆          ┆ man)      │\n│ Burke     ┆ Aedanus    ┆ null       ┆ null   ┆ … ┆ null       ┆ null      ┆ 1260     ┆ Aedanus   │\n│           ┆            ┆            ┆        ┆   ┆            ┆           ┆          ┆ Burke     │\n│ Carroll   ┆ Daniel     ┆ null       ┆ null   ┆ … ┆ null       ┆ null      ┆ 1538     ┆ Daniel    │\n│           ┆            ┆            ┆        ┆   ┆            ┆           ┆          ┆ Carroll   │\n│ Clymer    ┆ George     ┆ null       ┆ null   ┆ … ┆ null       ┆ null      ┆ 1859     ┆ George    │\n│           ┆            ┆            ┆        ┆   ┆            ┆           ┆          ┆ Clymer    │\n└───────────┴────────────┴────────────┴────────┴───┴────────────┴───────────┴──────────┴───────────┘",
      "text/html": "<div><style>\n.dataframe > thead > tr,\n.dataframe > tbody > tr {\n  text-align: right;\n  white-space: pre-wrap;\n}\n</style>\n<small>shape: (5, 36)</small><table border=\"1\" class=\"dataframe\"><thead><tr><th>last_name</th><th>first_name</th><th>middle_name</th><th>suffix</th><th>nickname</th><th>full_name</th><th>birthday</th><th>gender</th><th>type</th><th>state</th><th>district</th><th>senate_class</th><th>party</th><th>url</th><th>address</th><th>phone</th><th>contact_form</th><th>rss_url</th><th>twitter</th><th>twitter_id</th><th>facebook</th><th>youtube</th><th>youtube_id</th><th>mastodon</th><th>bioguide_id</th><th>thomas_id</th><th>opensecrets_id</th><th>lis_id</th><th>fec_ids</th><th>cspan_id</th><th>govtrack_id</th><th>votesmart_id</th><th>ballotpedia_id</th><th>washington_post_id</th><th>icpsr_id</th><th>wikipedia_id</th></tr><tr><td>str</td><td>cat</td><td>str</td><td>str</td><td>str</td><td>str</td><td>date</td><td>cat</td><td>cat</td><td>cat</td><td>i64</td><td>i64</td><td>cat</td><td>str</td><td>str</td><td>str</td><td>str</td><td>str</td><td>str</td><td>str</td><td>str</td><td>str</td><td>str</td><td>str</td><td>str</td><td>str</td><td>str</td><td>str</td><td>str</td><td>str</td><td>i64</td><td>str</td><td>str</td><td>str</td><td>i64</td><td>str</td></tr></thead><tbody><tr><td>&quot;Bassett&quot;</td><td>&quot;Richard&quot;</td><td>null</td><td>null</td><td>null</td><td>null</td><td>1745-04-02</td><td>&quot;M&quot;</td><td>&quot;sen&quot;</td><td>&quot;DE&quot;</td><td>null</td><td>2</td><td>&quot;Anti-Administr…</td><td>null</td><td>null</td><td>null</td><td>null</td><td>null</td><td>null</td><td>null</td><td>null</td><td>null</td><td>null</td><td>null</td><td>&quot;B000226&quot;</td><td>null</td><td>null</td><td>null</td><td>null</td><td>null</td><td>401222</td><td>null</td><td>null</td><td>null</td><td>507</td><td>&quot;Richard Basset…</td></tr><tr><td>&quot;Bland&quot;</td><td>&quot;Theodorick&quot;</td><td>null</td><td>null</td><td>null</td><td>null</td><td>1742-03-21</td><td>&quot;M&quot;</td><td>&quot;rep&quot;</td><td>&quot;VA&quot;</td><td>9</td><td>null</td><td>null</td><td>null</td><td>null</td><td>null</td><td>null</td><td>null</td><td>null</td><td>null</td><td>null</td><td>null</td><td>null</td><td>null</td><td>&quot;B000546&quot;</td><td>null</td><td>null</td><td>null</td><td>null</td><td>null</td><td>401521</td><td>null</td><td>null</td><td>null</td><td>786</td><td>&quot;Theodorick Bla…</td></tr><tr><td>&quot;Burke&quot;</td><td>&quot;Aedanus&quot;</td><td>null</td><td>null</td><td>null</td><td>null</td><td>1743-06-16</td><td>&quot;M&quot;</td><td>&quot;rep&quot;</td><td>&quot;SC&quot;</td><td>2</td><td>null</td><td>null</td><td>null</td><td>null</td><td>null</td><td>null</td><td>null</td><td>null</td><td>null</td><td>null</td><td>null</td><td>null</td><td>null</td><td>&quot;B001086&quot;</td><td>null</td><td>null</td><td>null</td><td>null</td><td>null</td><td>402032</td><td>null</td><td>null</td><td>null</td><td>1260</td><td>&quot;Aedanus Burke&quot;</td></tr><tr><td>&quot;Carroll&quot;</td><td>&quot;Daniel&quot;</td><td>null</td><td>null</td><td>null</td><td>null</td><td>1730-07-22</td><td>&quot;M&quot;</td><td>&quot;rep&quot;</td><td>&quot;MD&quot;</td><td>6</td><td>null</td><td>null</td><td>null</td><td>null</td><td>null</td><td>null</td><td>null</td><td>null</td><td>null</td><td>null</td><td>null</td><td>null</td><td>null</td><td>&quot;C000187&quot;</td><td>null</td><td>null</td><td>null</td><td>null</td><td>null</td><td>402334</td><td>null</td><td>null</td><td>null</td><td>1538</td><td>&quot;Daniel Carroll…</td></tr><tr><td>&quot;Clymer&quot;</td><td>&quot;George&quot;</td><td>null</td><td>null</td><td>null</td><td>null</td><td>1739-03-16</td><td>&quot;M&quot;</td><td>&quot;rep&quot;</td><td>&quot;PA&quot;</td><td>-1</td><td>null</td><td>null</td><td>null</td><td>null</td><td>null</td><td>null</td><td>null</td><td>null</td><td>null</td><td>null</td><td>null</td><td>null</td><td>null</td><td>&quot;C000538&quot;</td><td>null</td><td>null</td><td>null</td><td>null</td><td>null</td><td>402671</td><td>null</td><td>null</td><td>null</td><td>1859</td><td>&quot;George Clymer&quot;</td></tr></tbody></table></div>"
     },
     "execution_count": 15,
     "metadata": {},
     "output_type": "execute_result"
    }
   ],
   "source": [
    "dataset.head()"
   ],
   "metadata": {
    "collapsed": false,
    "ExecuteTime": {
     "end_time": "2024-01-14T14:32:31.835626Z",
     "start_time": "2024-01-14T14:32:31.831933Z"
    }
   },
   "id": "31e16e1272ac43c3",
   "execution_count": 15
  },
  {
   "cell_type": "code",
   "outputs": [],
   "source": [],
   "metadata": {
    "collapsed": false
   },
   "id": "631c6e9d89076abd"
  }
 ],
 "metadata": {
  "kernelspec": {
   "display_name": "Python 3",
   "language": "python",
   "name": "python3"
  },
  "language_info": {
   "codemirror_mode": {
    "name": "ipython",
    "version": 2
   },
   "file_extension": ".py",
   "mimetype": "text/x-python",
   "name": "python",
   "nbconvert_exporter": "python",
   "pygments_lexer": "ipython2",
   "version": "2.7.6"
  }
 },
 "nbformat": 4,
 "nbformat_minor": 5
}
