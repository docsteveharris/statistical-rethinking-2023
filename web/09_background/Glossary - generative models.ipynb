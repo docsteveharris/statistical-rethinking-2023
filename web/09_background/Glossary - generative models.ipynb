{
 "cells": [
  {
   "cell_type": "markdown",
   "id": "cd5382cbbc4d2949",
   "metadata": {
    "collapsed": false
   },
   "source": [
    "# Generative models\n",
    "\n",
    "There small world of modelling has two inputs: the data, and the model.\n",
    "The models go by various names including likelihood functions and generative models but they have a a common set of properties.\n",
    "- given a data point, the model will produce an estimate of the plausability of a parameter\n",
    "- given a parameter, the model can produce a new data point\n",
    "\n",
    "And therefore given a distribution for that parameter (the prior), the model will produce a full sampling distribution.\n",
    "\n",
    "We use _plausability_ interchangeably with probability but we mean that we consider a particular value of a parameters more likely if there are more ways for the observed data to give rise to that parameter. In other words, the model is a counting machine. For any data point, it counts up the number of ways a particular hypothesis might arise. For a hypothesis, it can generate new data items. These processes are stochastic rather than deterministic in that within the model there is uncertainty about how one thing will lead to another. Nonetheless, we are explicit about the exact form of that uncertainty."
   ]
  },
  {
   "cell_type": "code",
   "execution_count": 1,
   "id": "341eaae39ca5e46a",
   "metadata": {
    "ExecuteTime": {
     "end_time": "2024-01-03T23:37:21.696549Z",
     "start_time": "2024-01-03T23:37:21.659383Z"
    },
    "collapsed": false
   },
   "outputs": [
    {
     "data": {
      "text/html": [
       "\n",
       "            <div id=\"NZnxrQ\"></div>\n",
       "            <script type=\"text/javascript\" data-lets-plot-script=\"library\">\n",
       "                if(!window.letsPlotCallQueue) {\n",
       "                    window.letsPlotCallQueue = [];\n",
       "                }; \n",
       "                window.letsPlotCall = function(f) {\n",
       "                    window.letsPlotCallQueue.push(f);\n",
       "                };\n",
       "                (function() {\n",
       "                    var script = document.createElement(\"script\");\n",
       "                    script.type = \"text/javascript\";\n",
       "                    script.src = \"https://cdn.jsdelivr.net/gh/JetBrains/lets-plot@v4.2.0/js-package/distr/lets-plot.min.js\";\n",
       "                    script.onload = function() {\n",
       "                        window.letsPlotCall = function(f) {f();};\n",
       "                        window.letsPlotCallQueue.forEach(function(f) {f();});\n",
       "                        window.letsPlotCallQueue = [];\n",
       "                        \n",
       "                    };\n",
       "                    script.onerror = function(event) {\n",
       "                        window.letsPlotCall = function(f) {};    // noop\n",
       "                        window.letsPlotCallQueue = [];\n",
       "                        var div = document.createElement(\"div\");\n",
       "                        div.style.color = 'darkred';\n",
       "                        div.textContent = 'Error loading Lets-Plot JS';\n",
       "                        document.getElementById(\"NZnxrQ\").appendChild(div);\n",
       "                    };\n",
       "                    var e = document.getElementById(\"NZnxrQ\");\n",
       "                    e.appendChild(script);\n",
       "                })()\n",
       "            </script>\n",
       "            "
      ]
     },
     "metadata": {},
     "output_type": "display_data"
    }
   ],
   "source": [
    "from collections import Counter\n",
    "import numpy as np\n",
    "import polars as pl\n",
    "import polars.selectors as cs\n",
    "from pprint import pprint\n",
    "import matplotlib.pyplot as plt\n",
    "\n",
    "from lets_plot import *\n",
    "LetsPlot.setup_html()"
   ]
  },
  {
   "cell_type": "markdown",
   "id": "e492fe60b699ebb0",
   "metadata": {
    "collapsed": false
   },
   "source": [
    "Better to consider this dice a 'machine' with a knob that controls its lethality.\n",
    "Then\n",
    "- given a data point, we can estimate the plausibility of each setting of the knob\n",
    "- given the knob is adjusted to a particular value, we can simulate a data point."
   ]
  },
  {
   "cell_type": "markdown",
   "id": "120ee74850e1cdff",
   "metadata": {
    "collapsed": false
   },
   "source": [
    "Three things that we need to to drive the Bayesian engine\n",
    "- a prior: a mapping of an unknown variable (parameter) to a probability distribution\n",
    "- the likelihood: a function that maps data to a probability; that is given an observation then how likely are the different hypothesised parameter values\n",
    "\n",
    "The likelihood is driven by an engine that can run forwards or in reverse.\n",
    "- running forwards (as the likelihood function) then it proposes representative parameters for the data that it sees\n",
    "- running backwards (as a generative function) then it proposes representative data for the parameter that is chosen\n",
    "\n",
    "Crucially, the engine is not deterministic, there is an element of randomness.\n",
    "This means that we can't know what it will do exactly, but we can say something about what we would expect to see, and what would surprise us.\n",
    "\n",
    "The machine is driven by a story. Good stories require scientific insight.\n",
    "Stories are models. They are never _true_, but sometimes they are useful.\n",
    "\n",
    "For the pandemic example, we only know that death is uncertain after an infection.\n",
    "For now, all we want to know is how bad that virus is, or how likely is someone to die after an infection.\n",
    "We don't yet consider a persons's prior health, or their medical care so to the model all persons and all infections are identical.\n",
    "\n",
    "We represent this as a simple machine driven by a dice roll, starting with a ten-sided dice, and the virus has only 11 levels of lethality from $0 \\dots 10$.[^a]\n",
    "\n",
    "Running example, we use an ten-sided dice (D10) to represent the chance of death after infection with a new virus. A patient needs a roll higher than some threshold to survive. The threshold for death is unknown but can take any of eleven values $0,1,2,3,4,5,6,7,8,9,10$. That is if the threshold is $7$, then you must roll $8,9,10$ to survive. If the threshold is $0$, the patient always survives. If the threshold is $10$, the patient always dies. \n",
    "\n",
    "We call the threshold parameter _lethality_. And that is what we seek to learn from the observed data.\n",
    "\n",
    "[^a]: Be mindful that lethality of the virus is not the same as the dice. To be concrete, the lethality might be $0$ but there is no $0$ on the dice (only $1 \\dots 10$). The dice is a physical representation of the randomness our model contains, and the lethality is the rule applied to convert that randomness into an outcome (_die_ or _survive_)"
   ]
  },
  {
   "cell_type": "code",
   "execution_count": 2,
   "id": "764444c1d27debb4",
   "metadata": {
    "ExecuteTime": {
     "end_time": "2024-01-03T23:37:21.697701Z",
     "start_time": "2024-01-03T23:37:21.674547Z"
    },
    "collapsed": false
   },
   "outputs": [
    {
     "name": "stdout",
     "output_type": "stream",
     "text": [
      "shape: (11, 2)\n",
      "┌────────────┬──────────┐\n",
      "│ hypotheses ┆ prior    │\n",
      "│ ---        ┆ ---      │\n",
      "│ i64        ┆ f64      │\n",
      "╞════════════╪══════════╡\n",
      "│ 0          ┆ 0.090909 │\n",
      "│ 1          ┆ 0.090909 │\n",
      "│ 2          ┆ 0.090909 │\n",
      "│ 3          ┆ 0.090909 │\n",
      "│ …          ┆ …        │\n",
      "│ 7          ┆ 0.090909 │\n",
      "│ 8          ┆ 0.090909 │\n",
      "│ 9          ┆ 0.090909 │\n",
      "│ 10         ┆ 0.090909 │\n",
      "└────────────┴──────────┘\n"
     ]
    }
   ],
   "source": [
    "n_sides = 10\n",
    "lethality = pl.DataFrame({\n",
    "    \"hypotheses\": np.arange(start=0, stop=n_sides + 1, step=1),\n",
    "    \"prior\": 1/ (n_sides+1)\n",
    "    \n",
    "})\n",
    "pprint(lethality)"
   ]
  },
  {
   "cell_type": "code",
   "execution_count": 3,
   "id": "618ca87116085092",
   "metadata": {
    "ExecuteTime": {
     "end_time": "2024-01-03T23:37:21.737502Z",
     "start_time": "2024-01-03T23:37:21.680848Z"
    },
    "collapsed": false
   },
   "outputs": [
    {
     "data": {
      "text/html": [
       "   <div id=\"qT0w0e\"></div>\n",
       "   <script type=\"text/javascript\" data-lets-plot-script=\"plot\">\n",
       "       (function() {\n",
       "           var plotSpec={\n",
       "\"data\":{\n",
       "\"hypotheses\":[0.0,1.0,2.0,3.0,4.0,5.0,6.0,7.0,8.0,9.0,10.0],\n",
       "\"prior\":[0.09090909090909091,0.09090909090909091,0.09090909090909091,0.09090909090909091,0.09090909090909091,0.09090909090909091,0.09090909090909091,0.09090909090909091,0.09090909090909091,0.09090909090909091,0.09090909090909091],\n",
       "\"ymin\":[0.0,0.0,0.0,0.0,0.0,0.0,0.0,0.0,0.0,0.0,0.0]\n",
       "},\n",
       "\"mapping\":{\n",
       "\"x\":\"hypotheses\",\n",
       "\"ymax\":\"prior\",\n",
       "\"ymin\":\"ymin\"\n",
       "},\n",
       "\"data_meta\":{\n",
       "},\n",
       "\"ggtitle\":{\n",
       "\"text\":\"Prior distribution\",\n",
       "\"subtitle\":\"A uniform or flat prior over a probability mass (discrete) function\"\n",
       "},\n",
       "\"kind\":\"plot\",\n",
       "\"scales\":[],\n",
       "\"layers\":[{\n",
       "\"geom\":\"linerange\",\n",
       "\"mapping\":{\n",
       "},\n",
       "\"data_meta\":{\n",
       "},\n",
       "\"data\":{\n",
       "}\n",
       "}],\n",
       "\"metainfo_list\":[]\n",
       "};\n",
       "           var plotContainer = document.getElementById(\"qT0w0e\");\n",
       "           window.letsPlotCall(function() {{\n",
       "               LetsPlot.buildPlotFromProcessedSpecs(plotSpec, -1, -1, plotContainer);\n",
       "           }});\n",
       "       })();    \n",
       "   </script>"
      ],
      "text/plain": [
       "<lets_plot.plot.core.PlotSpec at 0x107755c30>"
      ]
     },
     "execution_count": 3,
     "metadata": {},
     "output_type": "execute_result"
    }
   ],
   "source": [
    "(ggplot(\n",
    "    lethality.with_columns(ymin=pl.lit(0)), \n",
    "    aes(x=\"hypotheses\", ymax=\"prior\", ymin=\"ymin\")) \n",
    "    + geom_linerange() \n",
    "    + ggtitle(\"Prior distribution\", \"A uniform or flat prior over a probability mass (discrete) function\")\n",
    " ) \n"
   ]
  },
  {
   "cell_type": "markdown",
   "id": "1a3c9d4e5382013",
   "metadata": {
    "collapsed": false
   },
   "source": [
    "Our prior says that we have find any lethality from 0% to 100% equally plausible. If you disagree then you simply adjust your prior (ensuring that the total probability sums to $1$ "
   ]
  },
  {
   "cell_type": "markdown",
   "id": "97c8b37f9035b48c",
   "metadata": {
    "collapsed": false
   },
   "source": [
    "We take our observations, and want to know how lethal the virus is."
   ]
  },
  {
   "cell_type": "code",
   "execution_count": 4,
   "id": "6fb51bde5877249b",
   "metadata": {
    "ExecuteTime": {
     "end_time": "2024-01-03T23:37:21.739140Z",
     "start_time": "2024-01-03T23:37:21.710960Z"
    },
    "collapsed": false
   },
   "outputs": [
    {
     "name": "stdout",
     "output_type": "stream",
     "text": [
      "shape: (3, 1)\n",
      "┌──────────────┐\n",
      "│ observations │\n",
      "│ ---          │\n",
      "│ str          │\n",
      "╞══════════════╡\n",
      "│ D            │\n",
      "│ D            │\n",
      "│ S            │\n",
      "└──────────────┘\n"
     ]
    }
   ],
   "source": [
    "# A polars data frame containing the first three observations where \"D\" is death and \"S\" is survived\n",
    "data = pl.DataFrame(\n",
    "    {\n",
    "        \"observations\": list(\"DDS\")\n",
    "    }\n",
    ")\n",
    "pprint(data)\n"
   ]
  },
  {
   "cell_type": "markdown",
   "id": "4409b5745a2c78df",
   "metadata": {
    "collapsed": false
   },
   "source": [
    "So now we need to code up the two versions of the machine.\n",
    "- the generative model: that produces representative (or likely) data for any particular hypothesis\n",
    "- the likelihood model: that produces representative (or likely) hypotheses for any particular data point"
   ]
  },
  {
   "cell_type": "code",
   "execution_count": 5,
   "id": "e4720197f7db1827",
   "metadata": {
    "ExecuteTime": {
     "end_time": "2024-01-03T23:37:21.739759Z",
     "start_time": "2024-01-03T23:37:21.718150Z"
    },
    "collapsed": false
   },
   "outputs": [],
   "source": [
    "def likely_data(lethality: int, dice_sides: int = 10):\n",
    "    \"\"\"\n",
    "    The generative version of the machine\n",
    "    (by brute force, just randomly sampling from a list of sides)\n",
    "    Return D (died) or \"S\" survived from a dice roll\n",
    "    \"\"\"\n",
    "    assert lethality <= dice_sides\n",
    "    # make your dice (simply a list from 1 to 10)\n",
    "    # NB stop=dice_sides+1 because Python np.arange excludes the upper bound \n",
    "    # not because the dice has 11 sides\n",
    "\n",
    "    # =========================================================================\n",
    "    # The machine ... nothing more than a simple dice used to generate data\n",
    "    # =========================================================================\n",
    "    dice = np.arange(start=1, stop=dice_sides + 1, step=1)\n",
    "    # roll the dice\n",
    "    side_rolled = np.random.choice(dice)\n",
    "    # =========================================================================\n",
    "\n",
    "\n",
    "    return \"D\" if side_rolled <= lethality else \"S\" "
   ]
  },
  {
   "cell_type": "code",
   "execution_count": 6,
   "id": "c66bb70a78f6026",
   "metadata": {
    "ExecuteTime": {
     "end_time": "2024-01-03T23:37:21.740847Z",
     "start_time": "2024-01-03T23:37:21.726091Z"
    },
    "collapsed": false
   },
   "outputs": [
    {
     "name": "stdout",
     "output_type": "stream",
     "text": [
      "['D', 'D', 'D', 'S', 'D', 'D', 'S', 'S', 'D', 'D']\n"
     ]
    }
   ],
   "source": [
    "\n",
    "assert likely_data(lethality=0) == \"S\"\n",
    "assert likely_data(lethality=10) == \"D\"\n",
    "\n",
    "from pprint import pprint\n",
    "pprint([likely_data(lethality=8) for _ in range(10)])"
   ]
  },
  {
   "cell_type": "code",
   "execution_count": 7,
   "id": "4c0f2db11a9f7c7d",
   "metadata": {
    "ExecuteTime": {
     "end_time": "2024-01-03T23:37:21.794131Z",
     "start_time": "2024-01-03T23:37:21.734338Z"
    },
    "collapsed": false
   },
   "outputs": [],
   "source": [
    "def likely_hypotheses(data, dice_sides: int = 10):\n",
    "    \"\"\"\n",
    "    The likelihood version of the machine\n",
    "    Given data, evaluates the plausabilty of each hypothesis\n",
    "    \n",
    "    Returns a data frame with one row per hypothesised lethality\n",
    "    and the number of ways that hypothesis could lead to the observated data\n",
    "    \"\"\"\n",
    "    # Check that you're dealing with a string like \"DSDDS\" or similar\n",
    "    data = list(data.upper())\n",
    "    for datum in data:\n",
    "        assert datum in [\"D\", \"S\"]\n",
    "    \n",
    "    # generate a different hypothetical dice for each hypothesised lethality\n",
    "    # aka Loop through the lethality values\n",
    "    minimum_lethality = 0\n",
    "    maximum_lethality = dice_sides + 1 \n",
    "    \n",
    "    hypotheses = pl.DataFrame({\n",
    "        \"lethality\": pl.arange(minimum_lethality, maximum_lethality, eager=True)\n",
    "    })\n",
    "    \n",
    "    # This loop creates the different dice ... \n",
    "    # \"the modeling engine\" that drives both the generative \n",
    "    # and the likelihood model\n",
    "    # =========================================================================\n",
    "    # The hypothesised machine(s)\n",
    "    # =========================================================================\n",
    "    hypothesised_dice = []\n",
    "    for lethality in hypotheses[\"lethality\"]:\n",
    "        dice = lethality * \"D\" + (dice_sides - lethality) * \"S\"\n",
    "        hypothesised_dice.append(dice)\n",
    "    # =========================================================================\n",
    "        \n",
    "    # append the dice to the dataframe\n",
    "    hypotheses = hypotheses.with_columns(pl.Series(\"dice\", hypothesised_dice))\n",
    "    \n",
    "    # loop through each observed value and assess how likely each hypothesised dice might produce that value\n",
    "    for i, datum in enumerate(data):\n",
    "        fork = f\"fork{i}\"\n",
    "        hypotheses = hypotheses.with_columns(\n",
    "            (pl.col(\"lethality\") if datum == \"D\" else dice_sides - pl.col(\"lethality\")\n",
    "        ).alias(fork))\n",
    "        \n",
    "    hypotheses = hypotheses.with_columns(\n",
    "        (hypotheses.select(cs.starts_with(\"fork\")).fold(lambda a, b: a*b)\n",
    "         ).alias(\"paths\")\n",
    "    )\n",
    "    \n",
    "    hypotheses = hypotheses.with_columns(\n",
    "        (pl.col(\"paths\") / pl.col(\"paths\").sum()\n",
    "         ).alias(\"probability\")\n",
    "    )\n",
    "        \n",
    "    \n",
    "    return hypotheses\n",
    "    \n",
    "   "
   ]
  },
  {
   "cell_type": "code",
   "execution_count": 8,
   "id": "b491c8d7082809d3",
   "metadata": {
    "ExecuteTime": {
     "end_time": "2024-01-03T23:37:21.800385Z",
     "start_time": "2024-01-03T23:37:21.741689Z"
    },
    "collapsed": false
   },
   "outputs": [
    {
     "name": "stdout",
     "output_type": "stream",
     "text": [
      "shape: (11, 7)\n",
      "┌───────────┬────────────┬───────┬───────┬───────┬───────┬─────────────┐\n",
      "│ lethality ┆ dice       ┆ fork0 ┆ fork1 ┆ fork2 ┆ paths ┆ probability │\n",
      "│ ---       ┆ ---        ┆ ---   ┆ ---   ┆ ---   ┆ ---   ┆ ---         │\n",
      "│ i64       ┆ str        ┆ i64   ┆ i64   ┆ i64   ┆ i64   ┆ f64         │\n",
      "╞═══════════╪════════════╪═══════╪═══════╪═══════╪═══════╪═════════════╡\n",
      "│ 0         ┆ SSSSSSSSSS ┆ 0     ┆ 0     ┆ 10    ┆ 0     ┆ 0.0         │\n",
      "│ 1         ┆ DSSSSSSSSS ┆ 1     ┆ 1     ┆ 9     ┆ 9     ┆ 0.010909    │\n",
      "│ 2         ┆ DDSSSSSSSS ┆ 2     ┆ 2     ┆ 8     ┆ 32    ┆ 0.038788    │\n",
      "│ 3         ┆ DDDSSSSSSS ┆ 3     ┆ 3     ┆ 7     ┆ 63    ┆ 0.076364    │\n",
      "│ …         ┆ …          ┆ …     ┆ …     ┆ …     ┆ …     ┆ …           │\n",
      "│ 7         ┆ DDDDDDDSSS ┆ 7     ┆ 7     ┆ 3     ┆ 147   ┆ 0.178182    │\n",
      "│ 8         ┆ DDDDDDDDSS ┆ 8     ┆ 8     ┆ 2     ┆ 128   ┆ 0.155152    │\n",
      "│ 9         ┆ DDDDDDDDDS ┆ 9     ┆ 9     ┆ 1     ┆ 81    ┆ 0.098182    │\n",
      "│ 10        ┆ DDDDDDDDDD ┆ 10    ┆ 10    ┆ 0     ┆ 0     ┆ 0.0         │\n",
      "└───────────┴────────────┴───────┴───────┴───────┴───────┴─────────────┘\n"
     ]
    }
   ],
   "source": [
    "res = likely_hypotheses(\"DDS\")\n",
    "print(res)\n",
    "\n",
    "# print(res.select(\"lethality\", \"dice\", \"paths\", \"probability\"))"
   ]
  },
  {
   "cell_type": "markdown",
   "id": "683e5a7b",
   "metadata": {},
   "source": [
    "Let's animate the learning process. We are going to fix the lethality of the virus (any result up to and including $6$ on a $10$ sided dice), and then roll the dice $20\\times$ and count the number of 'deaths' (rolls less than $6$), and inspect the number of ways each hypothesised dice could produce those data. We'll repeat this 500 times meaning that we'll eventually have $10,000$ data points."
   ]
  },
  {
   "cell_type": "code",
   "execution_count": 9,
   "id": "c9111c1a",
   "metadata": {},
   "outputs": [],
   "source": [
    "from IPython.display import clear_output\n",
    "from time import sleep"
   ]
  },
  {
   "cell_type": "code",
   "execution_count": 10,
   "id": "fc2e7227b2f64232",
   "metadata": {
    "collapsed": false,
    "is_executing": true
   },
   "outputs": [
    {
     "data": {
      "image/png": "[encoded data removed]",
      "text/plain": [
       "<Figure size 640x480 with 1 Axes>"
      ]
     },
     "metadata": {},
     "output_type": "display_data"
    }
   ],
   "source": [
    "%matplotlib inline\n",
    "interval = 0.0\n",
    "samples = []\n",
    "n_rolls = 10\n",
    "plt.figure()\n",
    "for i in range(1_000):\n",
    "    rolls = [likely_data(lethality=6) for _ in range(n_rolls)]\n",
    "    deaths = (np.array(rolls) == \"D\").sum()\n",
    "    samples.append(deaths)\n",
    "    # manually count use collections.Counter\n",
    "    counter = Counter(samples)\n",
    "    # print(counter)\n",
    "    items, freq = zip(*counter.items())\n",
    "    items = [item/n_rolls*10 for item in items]\n",
    "    plt.bar(x=items, height=freq, width=0.4)\n",
    "    plt.xlim(0,10)\n",
    "    plt.xlabel(\"Lethality\")\n",
    "    plt.title(f\"Batch: {len(samples)} equivalent to {n_rolls*len(samples)} rolls\")\n",
    "    plt.show()\n",
    "    if interval:\n",
    "        sleep(interval)\n",
    "    clear_output(wait=True)\n",
    "\n",
    "plt.show()\n"
   ]
  },
  {
   "cell_type": "markdown",
   "id": "ea071510e0f89491",
   "metadata": {
    "collapsed": false
   },
   "source": [
    "The model above is a simple counting machine. Given a data point, it counts the number of ways that survival is possible for a given lethality. We are imagining our model as different hypothesised versions of a simple machine (the dice) and that given the hypothesis (lethality), the machine tells us the number of ways that particular observation could have arisen."
   ]
  },
  {
   "cell_type": "markdown",
   "id": "853c7f3b",
   "metadata": {},
   "source": [
    ":::{.callout-note}\n",
    "This worked example uses a discrete probability model, and only estimates one parameter (the lethality) but the same principles apply to _all_ probability models, and any number of parameters. It just get's slower, and eventually we have to sample the posterior rather than calculate directly.\n",
    ":::"
   ]
  },
  {
   "cell_type": "markdown",
   "id": "d1f6fac1",
   "metadata": {},
   "source": []
  }
 ],
 "metadata": {
  "kernelspec": {
   "display_name": "Python 3",
   "language": "python",
   "name": "python3"
  },
  "language_info": {
   "codemirror_mode": {
    "name": "ipython",
    "version": 3
   },
   "file_extension": ".py",
   "mimetype": "text/x-python",
   "name": "python",
   "nbconvert_exporter": "python",
   "pygments_lexer": "ipython3",
   "version": "3.10.12"
  }
 },
 "nbformat": 4,
 "nbformat_minor": 5
}
